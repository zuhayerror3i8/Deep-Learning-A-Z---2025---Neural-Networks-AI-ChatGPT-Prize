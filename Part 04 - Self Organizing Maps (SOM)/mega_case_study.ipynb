{
  "nbformat": 4,
  "nbformat_minor": 0,
  "metadata": {
    "colab": {
      "provenance": [],
      "include_colab_link": true
    },
    "kernelspec": {
      "name": "python3",
      "display_name": "Python 3"
    },
    "language_info": {
      "name": "python"
    }
  },
  "cells": [
    {
      "cell_type": "markdown",
      "metadata": {
        "id": "view-in-github",
        "colab_type": "text"
      },
      "source": [
        "<a href=\"https://colab.research.google.com/github/zuhayerror3i8/Deep-Learning-A-Z---2025---Neural-Networks-AI-ChatGPT-Prize/blob/main/Part%2004%20-%20Self%20Organizing%20Maps%20(SOM)/mega_case_study.ipynb\" target=\"_parent\"><img src=\"https://colab.research.google.com/assets/colab-badge.svg\" alt=\"Open In Colab\"/></a>"
      ]
    },
    {
      "cell_type": "markdown",
      "source": [
        "# Mega Case Study"
      ],
      "metadata": {
        "id": "4ttDzgHju6gA"
      }
    },
    {
      "cell_type": "markdown",
      "source": [
        "## Part 1 - SOM"
      ],
      "metadata": {
        "id": "oSwejljBvC9R"
      }
    },
    {
      "cell_type": "markdown",
      "source": [
        "### Importing the libraries"
      ],
      "metadata": {
        "id": "TEwWQkWvvMUW"
      }
    },
    {
      "cell_type": "code",
      "source": [
        "!pip install minisom"
      ],
      "metadata": {
        "id": "bqNzpi1EvPkd"
      },
      "execution_count": null,
      "outputs": []
    },
    {
      "cell_type": "code",
      "source": [
        "import numpy as np\n",
        "import pandas as pd\n",
        "import matplotlib.pyplot as plt"
      ],
      "metadata": {
        "id": "MOOz-oDQvT9x"
      },
      "execution_count": null,
      "outputs": []
    },
    {
      "cell_type": "markdown",
      "source": [
        "### Importing the dataset"
      ],
      "metadata": {
        "id": "YjJhJQKMvYaN"
      }
    },
    {
      "cell_type": "code",
      "source": [
        "dataset = pd.read_csv('Credit_Card_Applications.csv')\n",
        "X = dataset.iloc[:, :-1].values\n",
        "y = dataset.iloc[:, -1].values"
      ],
      "metadata": {
        "id": "3WXBpYMCvayQ"
      },
      "execution_count": null,
      "outputs": []
    },
    {
      "cell_type": "markdown",
      "source": [
        "### Feature Scaling"
      ],
      "metadata": {
        "id": "tvYpotq2viVh"
      }
    },
    {
      "cell_type": "code",
      "source": [
        "from sklearn.preprocessing import MinMaxScaler\n",
        "sc = MinMaxScaler(feature_range=(0, 1))\n",
        "X = sc.fit_transform(X)"
      ],
      "metadata": {
        "id": "dMSMIYTyvoJd"
      },
      "execution_count": null,
      "outputs": []
    },
    {
      "cell_type": "markdown",
      "source": [
        "### Training the SOM"
      ],
      "metadata": {
        "id": "vWwhBy7GvpOv"
      }
    },
    {
      "cell_type": "code",
      "source": [
        "from minisom import MiniSom\n",
        "som = MiniSom(x=10, y=10, input_len=15, sigma=1.0, learning_rate=0.5)\n",
        "som.random_weights_init(X)\n",
        "som.train_random(data=X, num_iteration=100)"
      ],
      "metadata": {
        "id": "ihfEpHUMvvI7"
      },
      "execution_count": null,
      "outputs": []
    },
    {
      "cell_type": "markdown",
      "source": [
        "### Visualizing the results"
      ],
      "metadata": {
        "id": "v7-6SEWDv0Rp"
      }
    },
    {
      "cell_type": "code",
      "source": [
        "from pylab import bone, pcolor, colorbar, plot, show\n",
        "bone()\n",
        "pcolor(som.distance_map().T)\n",
        "colorbar()\n",
        "markers = ['o', 's']\n",
        "colors = ['r', 'g']\n",
        "for i, x in enumerate(X):\n",
        "    w = som.winner(x)\n",
        "    plot(w[0] + 0.5,\n",
        "         w[1] + 0.5,\n",
        "         markers[y[i]],\n",
        "         markeredgecolor=colors[y[i]],\n",
        "         markerfacecolor='None',\n",
        "         markersize=10,\n",
        "         markeredgewidth=2)\n",
        "show()"
      ],
      "metadata": {
        "id": "JXJIfjYLv2NY"
      },
      "execution_count": null,
      "outputs": []
    },
    {
      "cell_type": "markdown",
      "source": [
        "### Finding the frauds"
      ],
      "metadata": {
        "id": "m8Ovu0awv5Q-"
      }
    },
    {
      "cell_type": "code",
      "source": [
        "mappings = som.win_map(X)\n",
        "frauds = np.concatenate((mappings[(6, 3)], mappings[(5, 4)]), axis=0)\n",
        "frauds = sc.inverse_transform(frauds)"
      ],
      "metadata": {
        "id": "p13Bss7Ov8xw"
      },
      "execution_count": null,
      "outputs": []
    },
    {
      "cell_type": "markdown",
      "source": [
        "### Printing the fraudulent clients"
      ],
      "metadata": {
        "id": "In6qKWfGwAqg"
      }
    },
    {
      "cell_type": "code",
      "source": [
        "print('Fraud Customer IDs')\n",
        "for i in frauds[:, 0]:\n",
        "  print(int(i))"
      ],
      "metadata": {
        "id": "hOMHxTXMwF8H"
      },
      "execution_count": null,
      "outputs": []
    },
    {
      "cell_type": "markdown",
      "source": [
        "## Part 2 - Going from Unsupervised to Supervised Deep Learning"
      ],
      "metadata": {
        "id": "u3Btp2IowTuI"
      }
    },
    {
      "cell_type": "markdown",
      "source": [
        "### Creating the Matrix of Features"
      ],
      "metadata": {
        "id": "IyeqCzjSwb_9"
      }
    },
    {
      "cell_type": "code",
      "source": [
        "customers = dataset.iloc[:, 1:].values"
      ],
      "metadata": {
        "id": "9Z984x7jwgMB"
      },
      "execution_count": null,
      "outputs": []
    },
    {
      "cell_type": "markdown",
      "source": [
        "### Creating the Dependent Variable"
      ],
      "metadata": {
        "id": "IfHa4dWMwuEj"
      }
    },
    {
      "cell_type": "code",
      "source": [
        "is_fraud = np.zeros(len(dataset))\n",
        "for i in range(len(dataset)):\n",
        "  if dataset.iloc[i, 0] in frauds:\n",
        "    is_fraud[i] = 1"
      ],
      "metadata": {
        "id": "EGzqjrq2wyIE"
      },
      "execution_count": null,
      "outputs": []
    },
    {
      "cell_type": "markdown",
      "source": [
        "## Part 3 - ANN"
      ],
      "metadata": {
        "id": "PktHoBxAw1Ij"
      }
    },
    {
      "cell_type": "markdown",
      "source": [
        "### Feature Scaling"
      ],
      "metadata": {
        "id": "_vSD07t1w_hS"
      }
    },
    {
      "cell_type": "code",
      "source": [
        "from sklearn.preprocessing import StandardScaler\n",
        "sc = StandardScaler()\n",
        "customers = sc.fit_transform(customers)"
      ],
      "metadata": {
        "id": "BhZorSxcxDZx"
      },
      "execution_count": null,
      "outputs": []
    },
    {
      "cell_type": "markdown",
      "source": [
        "### Building the ANN"
      ],
      "metadata": {
        "id": "_CzB5frrxG0U"
      }
    },
    {
      "cell_type": "code",
      "source": [
        "import tensorflow as tf\n",
        "tf.__version__"
      ],
      "metadata": {
        "id": "QFTPVZLzxj0C"
      },
      "execution_count": null,
      "outputs": []
    },
    {
      "cell_type": "code",
      "source": [
        "ann = tf.keras.models.Sequential()\n",
        "ann.add(tf.keras.layers.Dense(units=2, activation='relu'))\n",
        "ann.add(tf.keras.layers.Dense(units=1, activation='sigmoid'))\n",
        "ann.compile(optimizer='adam', loss='binary_crossentropy', metrics=['accuracy'])"
      ],
      "metadata": {
        "id": "6HObjq9nxQZh"
      },
      "execution_count": null,
      "outputs": []
    },
    {
      "cell_type": "markdown",
      "source": [
        "### Training the ANN"
      ],
      "metadata": {
        "id": "6ERiPkPzxnIj"
      }
    },
    {
      "cell_type": "code",
      "source": [
        "ann.fit(customers, is_fraud, batch_size=1, epochs=10)"
      ],
      "metadata": {
        "id": "OKhYcxZfxoxA"
      },
      "execution_count": null,
      "outputs": []
    },
    {
      "cell_type": "markdown",
      "source": [
        "### Predicting the test set results"
      ],
      "metadata": {
        "id": "EVCo73oPxrbW"
      }
    },
    {
      "cell_type": "code",
      "source": [
        "y_pred = ann.predict(customers)\n",
        "y_pred = np.concatenate((dataset.iloc[:, 0:1].values, y_pred), axis=1)\n",
        "y_pred = y_pred[y_pred[:, 1].argsort()]"
      ],
      "metadata": {
        "id": "evu4C31dxvD9"
      },
      "execution_count": null,
      "outputs": []
    },
    {
      "cell_type": "code",
      "source": [
        "print(y_pred)"
      ],
      "metadata": {
        "id": "wKpLEkSTxyIH"
      },
      "execution_count": null,
      "outputs": []
    }
  ]
}